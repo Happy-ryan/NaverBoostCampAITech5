{
  "nbformat": 4,
  "nbformat_minor": 0,
  "metadata": {
    "colab": {
      "provenance": []
    },
    "kernelspec": {
      "name": "python3",
      "display_name": "Python 3"
    },
    "language_info": {
      "name": "python"
    },
    "accelerator": "GPU",
    "gpuClass": "standard"
  },
  "cells": [
    {
      "cell_type": "markdown",
      "source": [
        "# Python basics for DL newbies"
      ],
      "metadata": {
        "id": "GBxnXN80qUu5"
      }
    },
    {
      "cell_type": "code",
      "execution_count": null,
      "metadata": {
        "colab": {
          "base_uri": "https://localhost:8080/"
        },
        "id": "zbpSXAKNqGF9",
        "outputId": "fc34c125-6e1e-47ca-fa32-b969e977e9e2"
      },
      "outputs": [
        {
          "output_type": "stream",
          "name": "stdout",
          "text": [
            "ndim : tensor([[0., 1., 2., 3., 4.],\n",
            "        [5., 6., 7., 8., 9.]]), shape : torch.Size([2, 5])\n"
          ]
        }
      ],
      "source": [
        "import numpy as np\n",
        "import torch\n",
        "n_array = np.arange(10).reshape(2, 5)\n",
        "t_array = torch.FloatTensor(n_array)\n",
        "print(f\"ndim : {t_array}, shape : {t_array.shape}\")"
      ]
    },
    {
      "cell_type": "markdown",
      "source": [
        "## Tensor생성은 list나 ndarray 사용가능"
      ],
      "metadata": {
        "id": "f4dHJY48rA8f"
      }
    },
    {
      "cell_type": "code",
      "source": [
        "# 잘 사용 안 함\n",
        "# data to tensor\n",
        "data = [[3, 5], [10, 5]]\n",
        "x_data = torch.tensor(data)\n",
        "x_data"
      ],
      "metadata": {
        "colab": {
          "base_uri": "https://localhost:8080/"
        },
        "id": "xvY7dS3jqI49",
        "outputId": "11b1009b-d92e-4655-81a2-21ed5848d0fe"
      },
      "execution_count": null,
      "outputs": [
        {
          "output_type": "execute_result",
          "data": {
            "text/plain": [
              "tensor([[ 3,  5],\n",
              "        [10,  5]])"
            ]
          },
          "metadata": {},
          "execution_count": 4
        }
      ]
    },
    {
      "cell_type": "code",
      "source": [
        "# 잘 사용 안 함\n",
        "# ndarry to tensor\n",
        "nd_array_ex = np.array(data)\n",
        "tensor_array = torch.from_numpy(nd_array_ex)\n",
        "tensor_array"
      ],
      "metadata": {
        "colab": {
          "base_uri": "https://localhost:8080/"
        },
        "id": "s3K13zququ1_",
        "outputId": "060cf9b0-19e0-435b-f93e-6ecadff27495"
      },
      "execution_count": null,
      "outputs": [
        {
          "output_type": "execute_result",
          "data": {
            "text/plain": [
              "tensor([[ 3,  5],\n",
              "        [10,  5]])"
            ]
          },
          "metadata": {},
          "execution_count": 5
        }
      ]
    },
    {
      "cell_type": "markdown",
      "source": [
        "## 기본적으로 **numpy**의 대부분의 사용법이 그대로 적용됨"
      ],
      "metadata": {
        "id": "dYm2BXharaym"
      }
    },
    {
      "cell_type": "code",
      "source": [
        "data = [[3, 5, 10], [10, 5, 50], [1, 5, 10]]\n",
        "x_data = torch.tensor(data)\n",
        "x_data"
      ],
      "metadata": {
        "colab": {
          "base_uri": "https://localhost:8080/"
        },
        "id": "mBUvS-Djq6NR",
        "outputId": "db65c1ee-57fa-4ec0-fcf3-dccbc0afa917"
      },
      "execution_count": null,
      "outputs": [
        {
          "output_type": "execute_result",
          "data": {
            "text/plain": [
              "tensor([[ 3,  5, 10],\n",
              "        [10,  5, 50],\n",
              "        [ 1,  5, 10]])"
            ]
          },
          "metadata": {},
          "execution_count": 6
        }
      ]
    },
    {
      "cell_type": "markdown",
      "source": [
        "slicing"
      ],
      "metadata": {
        "id": "taSwxk2irpBh"
      }
    },
    {
      "cell_type": "code",
      "source": [
        "x_data[1:] # 1행부터 열 전체\n",
        "# tensor([[ 3,  5, 10],\n",
        "#         [10,  5, 50],\n",
        "#         [ 1,  5, 10]])"
      ],
      "metadata": {
        "colab": {
          "base_uri": "https://localhost:8080/"
        },
        "id": "23YE3Ds4rmWL",
        "outputId": "65fdd252-3a0a-4e9e-b583-9664a399f731"
      },
      "execution_count": null,
      "outputs": [
        {
          "output_type": "execute_result",
          "data": {
            "text/plain": [
              "tensor([[10,  5, 50],\n",
              "        [ 1,  5, 10]])"
            ]
          },
          "metadata": {},
          "execution_count": 7
        }
      ]
    },
    {
      "cell_type": "code",
      "source": [
        "x_data[:2, 1:] # 0행과 1행 + 1열~마지막열"
      ],
      "metadata": {
        "colab": {
          "base_uri": "https://localhost:8080/"
        },
        "id": "4ALv4i6urx_G",
        "outputId": "96033ee3-447b-464f-adb5-a57f9b8f9b3c"
      },
      "execution_count": null,
      "outputs": [
        {
          "output_type": "execute_result",
          "data": {
            "text/plain": [
              "tensor([[ 5, 10],\n",
              "        [ 5, 50]])"
            ]
          },
          "metadata": {},
          "execution_count": 8
        }
      ]
    },
    {
      "cell_type": "markdown",
      "source": [
        "flatten()"
      ],
      "metadata": {
        "id": "ugRfPZvWsITC"
      }
    },
    {
      "cell_type": "code",
      "source": [
        "x_data.flatten()"
      ],
      "metadata": {
        "colab": {
          "base_uri": "https://localhost:8080/"
        },
        "id": "mqWz5lM6sFQ9",
        "outputId": "6eaad080-b2b0-449a-e14b-bc7fc6f0ffa6"
      },
      "execution_count": null,
      "outputs": [
        {
          "output_type": "execute_result",
          "data": {
            "text/plain": [
              "tensor([ 3,  5, 10, 10,  5, 50,  1,  5, 10])"
            ]
          },
          "metadata": {},
          "execution_count": 9
        }
      ]
    },
    {
      "cell_type": "markdown",
      "source": [
        "something_like\n",
        "> 같은 크기의 텐서를 만들어주고 1로 채워넣음\n"
      ],
      "metadata": {
        "id": "MQa7AQmssdhk"
      }
    },
    {
      "cell_type": "code",
      "source": [
        "torch.ones_like(x_data)"
      ],
      "metadata": {
        "colab": {
          "base_uri": "https://localhost:8080/"
        },
        "id": "xMzgS-yUsPQc",
        "outputId": "a6eb4734-da4b-4b86-89f9-de353a16b9b8"
      },
      "execution_count": null,
      "outputs": [
        {
          "output_type": "execute_result",
          "data": {
            "text/plain": [
              "tensor([[1, 1, 1],\n",
              "        [1, 1, 1],\n",
              "        [1, 1, 1]])"
            ]
          },
          "metadata": {},
          "execution_count": 10
        }
      ]
    },
    {
      "cell_type": "markdown",
      "source": [
        "텐서를 넘파이로 변환 / 텐선의 행과 열/ 타입"
      ],
      "metadata": {
        "id": "6rYs32VVs3qB"
      }
    },
    {
      "cell_type": "code",
      "source": [
        "x_data.numpy()"
      ],
      "metadata": {
        "colab": {
          "base_uri": "https://localhost:8080/"
        },
        "id": "Ou9iOfYHsuvw",
        "outputId": "9b07cb4a-02c1-4c41-b07a-a8d0965922a0"
      },
      "execution_count": null,
      "outputs": [
        {
          "output_type": "execute_result",
          "data": {
            "text/plain": [
              "array([[ 3,  5, 10],\n",
              "       [10,  5, 50],\n",
              "       [ 1,  5, 10]])"
            ]
          },
          "metadata": {},
          "execution_count": 11
        }
      ]
    },
    {
      "cell_type": "code",
      "source": [
        "x_data.shape\n",
        "# shape할 때 괄호 주의하기"
      ],
      "metadata": {
        "colab": {
          "base_uri": "https://localhost:8080/"
        },
        "id": "gjn_zFaDskpF",
        "outputId": "b90f1aff-f261-4eb5-d15c-56ae35f65624"
      },
      "execution_count": null,
      "outputs": [
        {
          "output_type": "execute_result",
          "data": {
            "text/plain": [
              "torch.Size([3, 3])"
            ]
          },
          "metadata": {},
          "execution_count": 12
        }
      ]
    },
    {
      "cell_type": "code",
      "source": [
        "x_data.dtype\n",
        "x_data"
      ],
      "metadata": {
        "colab": {
          "base_uri": "https://localhost:8080/"
        },
        "id": "LZnom77wtDYp",
        "outputId": "80fbc15f-215e-4aba-e732-853c336ef616"
      },
      "execution_count": null,
      "outputs": [
        {
          "output_type": "execute_result",
          "data": {
            "text/plain": [
              "tensor([[ 3,  5, 10],\n",
              "        [10,  5, 50],\n",
              "        [ 1,  5, 10]])"
            ]
          },
          "metadata": {},
          "execution_count": 13
        }
      ]
    },
    {
      "cell_type": "markdown",
      "source": [
        "pytorch의 tensor는 GPU에 올려 사용가능"
      ],
      "metadata": {
        "id": "L7GxleVAta9m"
      }
    },
    {
      "cell_type": "code",
      "source": [
        "x_data.device"
      ],
      "metadata": {
        "colab": {
          "base_uri": "https://localhost:8080/"
        },
        "id": "64nzXGM7uICI",
        "outputId": "911a918e-ee38-436d-c5f8-ef34e34abf29"
      },
      "execution_count": null,
      "outputs": [
        {
          "output_type": "execute_result",
          "data": {
            "text/plain": [
              "device(type='cpu')"
            ]
          },
          "metadata": {},
          "execution_count": 14
        }
      ]
    },
    {
      "cell_type": "code",
      "source": [
        "# device(type = 'cpu')\n",
        "if torch.cuda.is_available():\n",
        "  x_data_cuda = x_data.to(\"cuda\")\n",
        "\n",
        "x_data_cuda.device\n",
        "# device(type = 'cuda')"
      ],
      "metadata": {
        "colab": {
          "base_uri": "https://localhost:8080/"
        },
        "id": "QUl5MieotU0-",
        "outputId": "63cf4ec5-818b-49c3-f3f4-0402f91edaf3"
      },
      "execution_count": null,
      "outputs": [
        {
          "output_type": "execute_result",
          "data": {
            "text/plain": [
              "device(type='cuda', index=0)"
            ]
          },
          "metadata": {},
          "execution_count": 15
        }
      ]
    },
    {
      "cell_type": "markdown",
      "source": [
        "#Tensor handling\n",
        "- view, squeeze, unsqueez 등으로 tensor 조정가능\n",
        "  - view : reshape과 동일하게 tensor의 shape을 변환\n",
        "  - squeeze : 차원의 개수가 1인 차원을 삭제(압축)\n",
        "  - unsqeeze : 차원의 개수가 1인 차원을 추가\n",
        "\n",
        "- view 와 reshape의 차이점\n",
        "  - view : call by referenc : 원본의 영향받음\n",
        "  - reshape : call by value : 원본의 영향을 받지 아니함. > copy를 해버림."
      ],
      "metadata": {
        "id": "vSjPl9KovY83"
      }
    },
    {
      "cell_type": "code",
      "source": [
        "tensor_ex = torch.rand(size= (2, 3, 4))\n",
        "tensor_ex\n",
        "# count 24"
      ],
      "metadata": {
        "colab": {
          "base_uri": "https://localhost:8080/"
        },
        "id": "O-SgPfeguAlp",
        "outputId": "5812cd90-1975-43ab-c6c4-b3be3f6e8b0d"
      },
      "execution_count": null,
      "outputs": [
        {
          "output_type": "execute_result",
          "data": {
            "text/plain": [
              "tensor([[[0.8656, 0.0558, 0.5387, 0.2805],\n",
              "         [0.4492, 0.3002, 0.7474, 0.3055],\n",
              "         [0.6632, 0.4475, 0.6510, 0.5491]],\n",
              "\n",
              "        [[0.7770, 0.5705, 0.6596, 0.7970],\n",
              "         [0.6873, 0.3728, 0.0309, 0.3026],\n",
              "         [0.8898, 0.8770, 0.2875, 0.3447]]])"
            ]
          },
          "metadata": {},
          "execution_count": 16
        }
      ]
    },
    {
      "cell_type": "code",
      "source": [
        "tensor_ex.shape"
      ],
      "metadata": {
        "colab": {
          "base_uri": "https://localhost:8080/"
        },
        "id": "u7p3YkNQv8Bs",
        "outputId": "13228f73-7bfb-4acb-dc85-65ae3a0227ac"
      },
      "execution_count": null,
      "outputs": [
        {
          "output_type": "execute_result",
          "data": {
            "text/plain": [
              "torch.Size([2, 3, 4])"
            ]
          },
          "metadata": {},
          "execution_count": 17
        }
      ]
    },
    {
      "cell_type": "code",
      "source": [
        "tensor_ex.view([-1, 6])\n",
        "# count 24 이므로 -1인 4에 해당"
      ],
      "metadata": {
        "colab": {
          "base_uri": "https://localhost:8080/"
        },
        "id": "JQpe1y6nwB7P",
        "outputId": "7e6d013f-88ab-40d1-dead-5a2e4971a56c"
      },
      "execution_count": null,
      "outputs": [
        {
          "output_type": "execute_result",
          "data": {
            "text/plain": [
              "tensor([[0.8656, 0.0558, 0.5387, 0.2805, 0.4492, 0.3002],\n",
              "        [0.7474, 0.3055, 0.6632, 0.4475, 0.6510, 0.5491],\n",
              "        [0.7770, 0.5705, 0.6596, 0.7970, 0.6873, 0.3728],\n",
              "        [0.0309, 0.3026, 0.8898, 0.8770, 0.2875, 0.3447]])"
            ]
          },
          "metadata": {},
          "execution_count": 18
        }
      ]
    },
    {
      "cell_type": "code",
      "source": [
        "tensor_ex.view([-1, 6]).shape"
      ],
      "metadata": {
        "colab": {
          "base_uri": "https://localhost:8080/"
        },
        "id": "D9F33bslwGDb",
        "outputId": "52627db1-95e4-4346-d54b-2855efe10d11"
      },
      "execution_count": null,
      "outputs": [
        {
          "output_type": "execute_result",
          "data": {
            "text/plain": [
              "torch.Size([4, 6])"
            ]
          },
          "metadata": {},
          "execution_count": 19
        }
      ]
    },
    {
      "cell_type": "code",
      "source": [
        "a = torch.zeros(3, 2)\n",
        "b = a.view(2, 3) # a를 카피했다면 a.fill_(1)을 해도 b는 0으로 가득차있어야한다.\n",
        "a.fill_(1)"
      ],
      "metadata": {
        "colab": {
          "base_uri": "https://localhost:8080/"
        },
        "id": "J8XkPBDfwIUE",
        "outputId": "1daa87b9-b0b7-4a4d-c92c-5d1d4c50b7ee"
      },
      "execution_count": null,
      "outputs": [
        {
          "output_type": "execute_result",
          "data": {
            "text/plain": [
              "tensor([[1., 1.],\n",
              "        [1., 1.],\n",
              "        [1., 1.]])"
            ]
          },
          "metadata": {},
          "execution_count": 22
        }
      ]
    },
    {
      "cell_type": "code",
      "source": [
        "_b # 그런데 b가 1로 차있다는건 call by refernce 주소값 참조를 해서 원보의 영향을 받은 상태이다."
      ],
      "metadata": {
        "colab": {
          "base_uri": "https://localhost:8080/"
        },
        "id": "2jGKSHT1IdMO",
        "outputId": "cf30ad4a-c1f7-406e-c30e-d3a7af6365ef"
      },
      "execution_count": null,
      "outputs": [
        {
          "output_type": "execute_result",
          "data": {
            "text/plain": [
              "tensor([[1., 1., 1.],\n",
              "        [1., 1., 1.]])"
            ]
          },
          "metadata": {},
          "execution_count": 21
        }
      ]
    },
    {
      "cell_type": "code",
      "source": [
        "a = torch.zeros(3, 2)\n",
        "b = a.t().reshape(6)\n",
        "a.fill_(1)"
      ],
      "metadata": {
        "colab": {
          "base_uri": "https://localhost:8080/"
        },
        "id": "qNiBML5jI_vr",
        "outputId": "4d98991a-61c4-4fa2-fe4b-bef0a27d3d45"
      },
      "execution_count": null,
      "outputs": [
        {
          "output_type": "execute_result",
          "data": {
            "text/plain": [
              "tensor([[1., 1.],\n",
              "        [1., 1.],\n",
              "        [1., 1.]])"
            ]
          },
          "metadata": {},
          "execution_count": 27
        }
      ]
    },
    {
      "cell_type": "code",
      "source": [
        "b"
      ],
      "metadata": {
        "colab": {
          "base_uri": "https://localhost:8080/"
        },
        "id": "Hy41775_JgBO",
        "outputId": "207fc05d-74c3-4355-ef18-16492cba4409"
      },
      "execution_count": null,
      "outputs": [
        {
          "output_type": "execute_result",
          "data": {
            "text/plain": [
              "tensor([0., 0., 0., 0., 0., 0.])"
            ]
          },
          "metadata": {},
          "execution_count": 29
        }
      ]
    },
    {
      "cell_type": "markdown",
      "source": [
        "squeeze, unsqueeze\n",
        "- [[1, 2], [3 ,4]] (2, 2)\n",
        "->unsqueezz(0):(***1***, 2, 2) ->squeeze():(2, 2)\n",
        "->unsqueezz(1):(2, ***1*** ,2)->squeeze():(2, 2)\n",
        "->unsqueezz(2):(2, 2, ***1***)->squeeze():(2, 2)"
      ],
      "metadata": {
        "id": "m2W_oR9QODVl"
      }
    },
    {
      "cell_type": "code",
      "source": [
        "tensor_ex = torch.rand(size=(2, 1, 2))\n",
        "tensor_ex.squeeze()\n",
        "# (2, 1, 2) -> (2. 2)"
      ],
      "metadata": {
        "colab": {
          "base_uri": "https://localhost:8080/"
        },
        "id": "f8KkJrpnJhVp",
        "outputId": "8d35de31-bb46-426d-8cab-22e026ebd001"
      },
      "execution_count": null,
      "outputs": [
        {
          "output_type": "execute_result",
          "data": {
            "text/plain": [
              "tensor([[0.5347, 0.1465],\n",
              "        [0.9674, 0.0391]])"
            ]
          },
          "metadata": {},
          "execution_count": 30
        }
      ]
    },
    {
      "cell_type": "code",
      "source": [
        "tensor_ex = torch.rand(size=(2, 2))\n",
        "tensor_ex.unsqueeze(0).shape\n",
        "# (2, 2) -> (1, 2, 2)"
      ],
      "metadata": {
        "colab": {
          "base_uri": "https://localhost:8080/"
        },
        "id": "7H0nxHPUPUom",
        "outputId": "dfd17ca2-0200-4ce6-a705-dd31a4b647b1"
      },
      "execution_count": null,
      "outputs": [
        {
          "output_type": "execute_result",
          "data": {
            "text/plain": [
              "torch.Size([1, 2, 2])"
            ]
          },
          "metadata": {},
          "execution_count": 31
        }
      ]
    },
    {
      "cell_type": "code",
      "source": [
        "tensor_ex = torch.rand(size=(2, 2))\n",
        "tensor_ex.unsqueeze(1).shape\n",
        "# (2, 2) -> (2, 1, 2)"
      ],
      "metadata": {
        "colab": {
          "base_uri": "https://localhost:8080/"
        },
        "id": "xilh-UghPfr_",
        "outputId": "169a2469-bb4c-4617-f2c4-fe400aac36ca"
      },
      "execution_count": null,
      "outputs": [
        {
          "output_type": "execute_result",
          "data": {
            "text/plain": [
              "torch.Size([2, 1, 2])"
            ]
          },
          "metadata": {},
          "execution_count": 32
        }
      ]
    },
    {
      "cell_type": "code",
      "source": [
        "tensor_ex = torch.rand(size=(2, 2))\n",
        "tensor_ex.unsqueeze(2).shape\n",
        "# (2, 2) -> (2, 2, 1)"
      ],
      "metadata": {
        "colab": {
          "base_uri": "https://localhost:8080/"
        },
        "id": "xP-UaYWlPjmS",
        "outputId": "e06d15bd-ae80-4661-8ce4-f59cee2df214"
      },
      "execution_count": null,
      "outputs": [
        {
          "output_type": "execute_result",
          "data": {
            "text/plain": [
              "torch.Size([2, 2, 1])"
            ]
          },
          "metadata": {},
          "execution_count": 33
        }
      ]
    },
    {
      "cell_type": "markdown",
      "source": [
        "## Tensor operation\n",
        "- 기본적으로 tensor의 operation는 numpy와 동일\n",
        "- **행렬곱셈연산은 dot(벡터내적)이 아닌 mm(행력곱) 사용**\n"
      ],
      "metadata": {
        "id": "0EXy3rMNPt20"
      }
    },
    {
      "cell_type": "code",
      "source": [
        "n1 = np.arange(10).reshape(2, 5)\n",
        "t1 = torch.FloatTensor(n1)\n",
        "n2 = np.arange(10).reshape(5, 2)\n",
        "t2 = torch.FloatTensor(n2)\n"
      ],
      "metadata": {
        "id": "xMxNZDssPlu2"
      },
      "execution_count": null,
      "outputs": []
    },
    {
      "cell_type": "code",
      "source": [
        "t1"
      ],
      "metadata": {
        "colab": {
          "base_uri": "https://localhost:8080/"
        },
        "id": "2NuMGYuOQ1bf",
        "outputId": "6b097b82-5d70-40aa-f303-00455b51b167"
      },
      "execution_count": null,
      "outputs": [
        {
          "output_type": "execute_result",
          "data": {
            "text/plain": [
              "tensor([[0., 1., 2., 3., 4.],\n",
              "        [5., 6., 7., 8., 9.]])"
            ]
          },
          "metadata": {},
          "execution_count": 37
        }
      ]
    },
    {
      "cell_type": "code",
      "source": [
        "t2"
      ],
      "metadata": {
        "colab": {
          "base_uri": "https://localhost:8080/"
        },
        "id": "n7IUlJGpQ2-I",
        "outputId": "30c99145-0c4a-4fa8-fce8-002122112664"
      },
      "execution_count": null,
      "outputs": [
        {
          "output_type": "execute_result",
          "data": {
            "text/plain": [
              "tensor([[0., 1.],\n",
              "        [2., 3.],\n",
              "        [4., 5.],\n",
              "        [6., 7.],\n",
              "        [8., 9.]])"
            ]
          },
          "metadata": {},
          "execution_count": 38
        }
      ]
    },
    {
      "cell_type": "code",
      "source": [
        "t1.mm(t2)"
      ],
      "metadata": {
        "colab": {
          "base_uri": "https://localhost:8080/"
        },
        "id": "Lb4lEBW2QwhB",
        "outputId": "cbdb701b-7f2a-4368-b73e-e783860d1f66"
      },
      "execution_count": null,
      "outputs": [
        {
          "output_type": "execute_result",
          "data": {
            "text/plain": [
              "tensor([[ 60.,  70.],\n",
              "        [160., 195.]])"
            ]
          },
          "metadata": {},
          "execution_count": 39
        }
      ]
    },
    {
      "cell_type": "markdown",
      "source": [
        "* 정리\n",
        "! **reshape 보다는 view를 쓰자**\n",
        "! **dot 보다는 mm을 쓰자**\n",
        "** matmul - 브로드캐스팅 지원 **"
      ],
      "metadata": {
        "id": "imGQ_bNUQ_Qi"
      }
    },
    {
      "cell_type": "code",
      "source": [
        "t2.mm(t1)"
      ],
      "metadata": {
        "colab": {
          "base_uri": "https://localhost:8080/"
        },
        "id": "7Cmn1IwxQyvM",
        "outputId": "79707433-4126-4d71-a105-54dba868d860"
      },
      "execution_count": null,
      "outputs": [
        {
          "output_type": "execute_result",
          "data": {
            "text/plain": [
              "tensor([[  5.,   6.,   7.,   8.,   9.],\n",
              "        [ 15.,  20.,  25.,  30.,  35.],\n",
              "        [ 25.,  34.,  43.,  52.,  61.],\n",
              "        [ 35.,  48.,  61.,  74.,  87.],\n",
              "        [ 45.,  62.,  79.,  96., 113.]])"
            ]
          },
          "metadata": {},
          "execution_count": 40
        }
      ]
    },
    {
      "cell_type": "markdown",
      "source": [
        "3차원 곱셉\n",
        "(1, 1, 2) * (1, 2, 1) = (1, 2, 2)"
      ],
      "metadata": {
        "id": "5HV-B6l_T-yY"
      }
    },
    {
      "cell_type": "code",
      "source": [
        "a = torch.rand(5, 2, 3)\n",
        "b = torch.rand(3)\n",
        "# a.mm(b)\n",
        "c = a.matmul(b)\n",
        "c\n",
        "\n",
        "# 5(배치) (2, 3) * (3, 1) = (배치:5, 2, 1)"
      ],
      "metadata": {
        "colab": {
          "base_uri": "https://localhost:8080/"
        },
        "id": "8ccrO7l8SzCc",
        "outputId": "f3f4e11c-63db-495e-dc46-90a2e8225c41"
      },
      "execution_count": null,
      "outputs": [
        {
          "output_type": "execute_result",
          "data": {
            "text/plain": [
              "tensor([[1.6894, 0.6453],\n",
              "        [0.9544, 0.7717],\n",
              "        [1.4592, 0.7349],\n",
              "        [1.0678, 1.9023],\n",
              "        [1.0189, 0.3509]])"
            ]
          },
          "metadata": {},
          "execution_count": 52
        }
      ]
    },
    {
      "cell_type": "code",
      "source": [
        "a[0].mm(torch.unsqueeze(b, 1))"
      ],
      "metadata": {
        "colab": {
          "base_uri": "https://localhost:8080/"
        },
        "id": "lWmoog3zTDmn",
        "outputId": "54163ab6-d293-470a-fe2b-fb9ac1e22e9e"
      },
      "execution_count": null,
      "outputs": [
        {
          "output_type": "execute_result",
          "data": {
            "text/plain": [
              "tensor([[1.6894],\n",
              "        [0.6453]])"
            ]
          },
          "metadata": {},
          "execution_count": 54
        }
      ]
    },
    {
      "cell_type": "code",
      "source": [
        "a[1].mm(torch.unsqueeze(b, 1))"
      ],
      "metadata": {
        "colab": {
          "base_uri": "https://localhost:8080/"
        },
        "id": "QiDp1adwWddW",
        "outputId": "b0e65966-da2f-4bbf-e935-0fef97d79aee"
      },
      "execution_count": null,
      "outputs": [
        {
          "output_type": "execute_result",
          "data": {
            "text/plain": [
              "tensor([[0.9544],\n",
              "        [0.7717]])"
            ]
          },
          "metadata": {},
          "execution_count": 55
        }
      ]
    },
    {
      "cell_type": "code",
      "source": [
        "a[2].mm(torch.unsqueeze(b, 1))\n"
      ],
      "metadata": {
        "colab": {
          "base_uri": "https://localhost:8080/"
        },
        "id": "xa1dopxyW6_F",
        "outputId": "f8335223-86d6-4876-a152-902f2da05b77"
      },
      "execution_count": null,
      "outputs": [
        {
          "output_type": "execute_result",
          "data": {
            "text/plain": [
              "tensor([[1.4592],\n",
              "        [0.7349]])"
            ]
          },
          "metadata": {},
          "execution_count": 56
        }
      ]
    },
    {
      "cell_type": "code",
      "source": [
        "a[3].mm(torch.unsqueeze(b, 1))\n"
      ],
      "metadata": {
        "colab": {
          "base_uri": "https://localhost:8080/"
        },
        "id": "dbjsyyYTW8gQ",
        "outputId": "6c135fed-402b-4602-8d7a-4610179d3681"
      },
      "execution_count": null,
      "outputs": [
        {
          "output_type": "execute_result",
          "data": {
            "text/plain": [
              "tensor([[1.0678],\n",
              "        [1.9023]])"
            ]
          },
          "metadata": {},
          "execution_count": 57
        }
      ]
    },
    {
      "cell_type": "code",
      "source": [
        "a[4].mm(torch.unsqueeze(b, 1))"
      ],
      "metadata": {
        "colab": {
          "base_uri": "https://localhost:8080/"
        },
        "id": "89pGLMuFW9pR",
        "outputId": "5aa97095-8641-409a-ee98-8cd6654e0f18"
      },
      "execution_count": null,
      "outputs": [
        {
          "output_type": "execute_result",
          "data": {
            "text/plain": [
              "tensor([[1.0189],\n",
              "        [0.3509]])"
            ]
          },
          "metadata": {},
          "execution_count": 58
        }
      ]
    },
    {
      "cell_type": "code",
      "source": [
        "a[0].mm(torch.unsqueeze(b, 1)).squeeze()"
      ],
      "metadata": {
        "colab": {
          "base_uri": "https://localhost:8080/"
        },
        "id": "AQOLnsO8W-Ii",
        "outputId": "87e682fb-23ed-43df-9a7d-29d48dd74c3e"
      },
      "execution_count": null,
      "outputs": [
        {
          "output_type": "execute_result",
          "data": {
            "text/plain": [
              "tensor([1.6894, 0.6453])"
            ]
          },
          "metadata": {},
          "execution_count": 59
        }
      ]
    },
    {
      "cell_type": "markdown",
      "source": [
        "# Tensor operations for ML/DL formula\n",
        "- nn.fucntional 모듈을 통해 다양한 수식 변환을 지원함"
      ],
      "metadata": {
        "id": "gO4yE4cV4AP8"
      }
    },
    {
      "cell_type": "code",
      "source": [
        "import torch\n",
        "import torch.nn.functional as F"
      ],
      "metadata": {
        "id": "gsE4wI9sXNQc"
      },
      "execution_count": 7,
      "outputs": []
    },
    {
      "cell_type": "code",
      "source": [
        "tensor = torch.FloatTensor([0.5, 0.7, 0.1])\n",
        "h_tensor = F.softmax(tensor, dim = 0)\n",
        "h_tensor"
      ],
      "metadata": {
        "colab": {
          "base_uri": "https://localhost:8080/"
        },
        "id": "XXhnQMBH4QgI",
        "outputId": "c9990eeb-9ed1-486e-a39a-6483af4eea67"
      },
      "execution_count": 8,
      "outputs": [
        {
          "output_type": "execute_result",
          "data": {
            "text/plain": [
              "tensor([0.3458, 0.4224, 0.2318])"
            ]
          },
          "metadata": {},
          "execution_count": 8
        }
      ]
    },
    {
      "cell_type": "code",
      "source": [
        "y = torch.randint(5, (10,5))\n",
        "print(y)\n",
        "y_label = y.argmax(dim = 1) # 행에서 가장 큰 값을 가지는 인덱스 반환\n",
        "y_label"
      ],
      "metadata": {
        "colab": {
          "base_uri": "https://localhost:8080/"
        },
        "id": "GPsJCDTk4cPg",
        "outputId": "bf7c2dab-755b-4377-a89d-840a0363989c"
      },
      "execution_count": 12,
      "outputs": [
        {
          "output_type": "stream",
          "name": "stdout",
          "text": [
            "tensor([[2, 2, 3, 0, 3],\n",
            "        [4, 3, 3, 3, 0],\n",
            "        [3, 2, 2, 1, 0],\n",
            "        [1, 2, 3, 2, 1],\n",
            "        [0, 4, 0, 2, 1],\n",
            "        [3, 3, 1, 4, 2],\n",
            "        [2, 2, 1, 3, 3],\n",
            "        [4, 4, 3, 2, 4],\n",
            "        [4, 0, 4, 3, 1],\n",
            "        [1, 4, 4, 1, 3]])\n"
          ]
        },
        {
          "output_type": "execute_result",
          "data": {
            "text/plain": [
              "tensor([2, 0, 0, 2, 1, 3, 3, 0, 0, 1])"
            ]
          },
          "metadata": {},
          "execution_count": 12
        }
      ]
    },
    {
      "cell_type": "code",
      "source": [
        "torch.nn.functional.one_hot(y_label)"
      ],
      "metadata": {
        "colab": {
          "base_uri": "https://localhost:8080/"
        },
        "id": "D6HuTaDW4y_K",
        "outputId": "f1f4a7cd-467b-4f17-f76f-8569fa059dac"
      },
      "execution_count": 13,
      "outputs": [
        {
          "output_type": "execute_result",
          "data": {
            "text/plain": [
              "tensor([[0, 0, 1, 0],\n",
              "        [1, 0, 0, 0],\n",
              "        [1, 0, 0, 0],\n",
              "        [0, 0, 1, 0],\n",
              "        [0, 1, 0, 0],\n",
              "        [0, 0, 0, 1],\n",
              "        [0, 0, 0, 1],\n",
              "        [1, 0, 0, 0],\n",
              "        [1, 0, 0, 0],\n",
              "        [0, 1, 0, 0]])"
            ]
          },
          "metadata": {},
          "execution_count": 13
        }
      ]
    },
    {
      "cell_type": "markdown",
      "source": [
        "# AutoGrad\n",
        "- pytorch의 핵심은 자동미분의 지원 -> backward함수사용\n",
        "---\n",
        "$$\n",
        "y = w^2 \\\\\n",
        "z = 10y + 25 \\\\\n",
        "z =10w^2 + 25\n",
        "$$"
      ],
      "metadata": {
        "id": "RW3XkQCR5fA9"
      }
    },
    {
      "cell_type": "code",
      "source": [
        "w = torch.tensor(2.0, requires_grad = True)\n",
        "y = w ** 2\n",
        "z = 10 * y + 25\n",
        "z.backward()\n",
        "w.grad"
      ],
      "metadata": {
        "colab": {
          "base_uri": "https://localhost:8080/"
        },
        "id": "kPZ6-LA75ZDd",
        "outputId": "8a934b5b-b1f8-4243-dd97-cd648fddc495"
      },
      "execution_count": 16,
      "outputs": [
        {
          "output_type": "execute_result",
          "data": {
            "text/plain": [
              "tensor(40.)"
            ]
          },
          "metadata": {},
          "execution_count": 16
        }
      ]
    },
    {
      "cell_type": "markdown",
      "source": [
        "$$Q = 3a^3 - b^2$$"
      ],
      "metadata": {
        "id": "tR9W9-MU6s6F"
      }
    },
    {
      "cell_type": "code",
      "source": [
        "a = torch.tensor([2., 3.], requires_grad=True)\n",
        "b = torch.tensor([6., 4.], requires_grad=True)\n",
        "Q = 3*a**3 - b**2\n",
        "external_grad = torch.tensor([1., 1.])\n",
        "Q.backward(gradient = external_grad)\n",
        "\n",
        "a.grad"
      ],
      "metadata": {
        "colab": {
          "base_uri": "https://localhost:8080/"
        },
        "id": "Qymwqatq5zWG",
        "outputId": "8e942e16-ef3b-4c75-972e-047bb5d12cfb"
      },
      "execution_count": 19,
      "outputs": [
        {
          "output_type": "execute_result",
          "data": {
            "text/plain": [
              "tensor([36., 81.])"
            ]
          },
          "metadata": {},
          "execution_count": 19
        }
      ]
    },
    {
      "cell_type": "markdown",
      "source": [
        "$$ \\frac{∂Q}{∂a} = 9a^2$$\n",
        "$$ \\frac{\\partial Q}{\\partial b} = -2b $$"
      ],
      "metadata": {
        "id": "r7hgivPg7S26"
      }
    },
    {
      "cell_type": "code",
      "source": [
        "b.grad"
      ],
      "metadata": {
        "colab": {
          "base_uri": "https://localhost:8080/"
        },
        "id": "HUMSy9WQ7Iy0",
        "outputId": "faa2d7e0-a0ec-44a1-a920-19ae50bba20a"
      },
      "execution_count": 20,
      "outputs": [
        {
          "output_type": "execute_result",
          "data": {
            "text/plain": [
              "tensor([-12.,  -8.])"
            ]
          },
          "metadata": {},
          "execution_count": 20
        }
      ]
    },
    {
      "cell_type": "code",
      "source": [],
      "metadata": {
        "id": "gdib3tu27xJK"
      },
      "execution_count": null,
      "outputs": []
    }
  ]
}